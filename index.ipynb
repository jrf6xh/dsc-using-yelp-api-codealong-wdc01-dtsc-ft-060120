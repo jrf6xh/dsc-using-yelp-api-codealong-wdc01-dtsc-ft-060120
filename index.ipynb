{
 "cells": [
  {
   "cell_type": "markdown",
   "metadata": {},
   "source": [
    "# Using the Yelp API - Codealong\n",
    "\n",
    "## Introduction\n",
    "\n",
    "Now that we've discussed HTTP requests and OAuth, it's time to practice applying those skills to a production level API. In this codealong, we'll take you through the process of signing up for an OAuth token and then using that to make requests to the Yelp API!\n",
    "\n",
    "## Objectives\n",
    "\n",
    "You will be able to:\n",
    "\n",
    "* Make requests using OAuth\n",
    "* Use the JSON module to load and parse JSON documents\n",
    "* Convert JSON to a pandas dataframe"
   ]
  },
  {
   "cell_type": "markdown",
   "metadata": {},
   "source": [
    "## Generating Access Tokens\n",
    "\n",
    "As discussed, in order to use many APIs, one needs to use OAuth which requires an access token. As such, our first step will be to generate this login information so that we can start making some requests.  \n",
    "\n",
    "With that, let's go grab an access token from an API site and make some API calls!\n",
    "Point your browser over to this [yelp page](https://www.yelp.com/developers/v3/manage_app) and start creating an app in order to obtain and API access token:\n",
    "\n",
    "![](./images/yelp_app.png)\n",
    "\n",
    "\n",
    "You can either sign in to an existing Yelp account or create a new one if needed.\n",
    "\n",
    "On the page you see above, simply fill out some sample information such as \"Flatiron Edu API Example\" for the app name, or whatever floats your boat. Afterward, you should be presented with an API key that you can use to make requests!\n",
    "\n",
    "With that, let's set up our authentication tokens so that we can start making some API calls!"
   ]
  },
  {
   "cell_type": "markdown",
   "metadata": {},
   "source": [
    "### Should I publicly share my passwords on Github?\n",
    "\n",
    "When using an API that requires an API key and password you should **NEVER** hardcode theses values into your main file. When you upload your project onto github it is completely public and vulnerable to attack. Assume that if you put sensitive information publicly on the internet it will be found and abused. \n",
    "\n",
    "To this end, how can we easily access our API key without opening ourselves up to vulnerabilities?\n",
    "\n",
    "There are many ways to store sensitive information but we will go with this method. "
   ]
  },
  {
   "cell_type": "markdown",
   "metadata": {},
   "source": [
    "#### Move to your home (root) directory:\n",
    "\n",
    "```\n",
    "cd ~\n",
    "```\n",
    "\n",
    "#### Now make the `.secret/` directory:\n",
    "\n",
    "```\n",
    "mkdir .secret\n",
    "```\n",
    "\n",
    "This will create a new folder in your home directory where you can store files for any of the API information you have. \n",
    "\n",
    "Can you find the file you just made in your terminal? \n",
    "NOTE: dot files won't show up with just `ls` you must use the show all command as well `ls -a`\n",
    "\n",
    "\n",
    "#### Move into the newly created `.secret/` folder and create a file using vscode or any text editor to store your yelp API login info.\n",
    "\n",
    "```\n",
    "cd .secret/\n",
    "code yelp_api.json\n",
    "```\n",
    "\n",
    "In this file, let's create a dictionary of values representing the client id and API key that looks something like this:\n",
    "\n",
    "`{\"api_key\": \"input api key here!\"}`\n",
    "\n",
    "NOTE: Double quotes are important! You'll copy and paste the `api_key` value that yelp grants you after you create your app.\n",
    "\n",
    "Ok, so now we have a file in our .secret folder on our home directory. Safe and sound (mostly) from anyone trying to steal our info off github.\n",
    "\n",
    "#### Finally, let's get our client id and API key into our jupyter notebook.\n",
    "\n",
    "If we remember that our file is just a regular JSON file, open the file and pull out the appropriate information from the `~/.secret/yelp_api.json` file. \n"
   ]
  },
  {
   "cell_type": "code",
   "execution_count": 1,
   "metadata": {},
   "outputs": [],
   "source": [
    "import json\n",
    "\n",
    "def get_keys(path):\n",
    "    with open(path) as f:\n",
    "        return json.load(f)"
   ]
  },
  {
   "cell_type": "markdown",
   "metadata": {},
   "source": [
    "> **Note**: Change the file path below to be your root directory. \n",
    "If you're not sure what your username is, check it with `pwd`  \n",
    "For example, my current working directory is ```/Users/matthew.mitchell/Documents/dsc-using-yelp-api-codealong```  \n",
    "So the line below would become:\n",
    "```keys = get_keys(\"/Users/matthew.mitchell/.secret/yelp_api.json\")```"
   ]
  },
  {
   "cell_type": "code",
   "execution_count": 2,
   "metadata": {},
   "outputs": [],
   "source": [
    "keys = get_keys(\"/Users/jamesfay/.secret/yelp_api.json\")\n",
    "\n",
    "api_key = keys['api_key']\n",
    "\n",
    "#While you may wish to print out these API keys to check that they imported properly,\n",
    "#be sure to clear the output before uploading to Github. \n",
    "#Again, you don't want your keys stolen!!!"
   ]
  },
  {
   "cell_type": "markdown",
   "metadata": {},
   "source": [
    "## An Example Request with OAuth <a id=\"oauth_request\"></a>\n",
    "https://www.yelp.com/developers/documentation/v3/get_started\n",
    "\n",
    "In the next lesson, we'll further dissect how to read and translate online documentation like the link here. For now, let's simply look at an example request and dissect it into its constituent parts:"
   ]
  },
  {
   "cell_type": "code",
   "execution_count": 10,
   "metadata": {},
   "outputs": [
    {
     "name": "stdout",
     "output_type": "stream",
     "text": [
      "<Response [200]>\n",
      "<class 'str'>\n",
      "{\"businesses\": [{\"id\": \"094fHChJkrJqztSFCn3ezA\", \"alias\": \"taqueria-habanero-washington\", \"name\": \"Taqueria Habanero\", \"image_url\": \"https://s3-media3.fl.yelpcdn.com/bphoto/KgSxmBUxqUIPDxREWbC7RQ/o.jpg\", \"is_closed\": false, \"url\": \"https://www.yelp.com/biz/taqueria-habanero-washington?adjust_creative=gqpXEg7kSQLsTLCCpjYWAQ&utm_campaign=yelp_api_v3&utm_medium=api_v3_business_search&utm_source=gqpXEg7kSQLsTLCCpjYWAQ\", \"review_count\": 822, \"categories\": [{\"alias\": \"mexican\", \"title\": \"Mexican\"}, {\"alias\": \"cocktailbars\", \"title\": \"Cocktail Bars\"}], \"rating\": 4.5, \"coordinates\": {\"latitude\": 38.93755, \"longitude\": -77.03309}, \"transactions\": [\"delivery\"], \"price\": \"$$\", \"location\": {\"address1\": \"3710 14th St NW\", \"address2\": null, \"address3\": \"\", \"city\": \"Washington, DC\", \"zip_code\": \"20010\", \"country\": \"US\", \"state\": \"DC\", \"display_address\": [\"3710 14th St NW\", \"Washington, DC 20010\"]}, \"phone\": \"+12027227700\", \"display_phone\": \"(202) 722-7700\", \"distance\": 2926.6099864285006}, {\"id\": \"H7\n"
     ]
    }
   ],
   "source": [
    "import requests\n",
    "term = 'Mexican'\n",
    "location = 'Washington DC'\n",
    "SEARCH_LIMIT = 10\n",
    "\n",
    "url = 'https://api.yelp.com/v3/businesses/search'\n",
    "\n",
    "headers = {\n",
    "        'Authorization': 'Bearer {}'.format(api_key),\n",
    "    }\n",
    "\n",
    "url_params = {\n",
    "                'term': term.replace(' ', '+'),\n",
    "                'location': location.replace(' ', '+'),\n",
    "                'limit': SEARCH_LIMIT\n",
    "            }\n",
    "response = requests.get(url, headers=headers, params=url_params)\n",
    "print(response)\n",
    "print(type(response.text))\n",
    "print(response.text[:1000])"
   ]
  },
  {
   "cell_type": "markdown",
   "metadata": {},
   "source": [
    "## Breaking Down the Request\n",
    "\n",
    "As you can see, there are three main parts to our request.  \n",
    "  \n",
    "They are:\n",
    "* The URL\n",
    "* The header\n",
    "* The parameters\n",
    "  \n",
    "The URL is fairly straightforward and is simply the base URL as described in the documentation (again more details in the upcoming lesson).\n",
    "\n",
    "The header is a dictionary of key-value pairs. In this case, we are using a fairly standard header used by many APIs. It has a strict form where 'Authorization' is the key and 'Bearer YourApiKey' is the value.\n",
    "\n",
    "The parameters are the filters that we wish to pass into the query. These will be embedded into the URL when the request is made to the API. Similar to the header, they form key-value pairs. Valid key parameters by which to structure your queries are described in the API documentation which we'll look at further shortly. A final important note, however, is the need to replace spaces with \"+\". This is standard to many requests as URLs cannot contain spaces. (Note that the header itself isn't directly embedded into the URL itself and as such, the space between 'Bearer' and YourApiKey is valid.)\n"
   ]
  },
  {
   "cell_type": "markdown",
   "metadata": {},
   "source": [
    "## The Response\n",
    "\n",
    "As before, our response object has both a status code, as well as the data itself. With that, let's start with a little data exploration!"
   ]
  },
  {
   "cell_type": "code",
   "execution_count": 11,
   "metadata": {},
   "outputs": [
    {
     "data": {
      "text/plain": [
       "dict_keys(['businesses', 'total', 'region'])"
      ]
     },
     "execution_count": 11,
     "metadata": {},
     "output_type": "execute_result"
    }
   ],
   "source": [
    "response.json().keys()"
   ]
  },
  {
   "cell_type": "markdown",
   "metadata": {},
   "source": [
    "Now let's go a bit further and start to preview what's stored in each of the values for these keys."
   ]
  },
  {
   "cell_type": "code",
   "execution_count": 12,
   "metadata": {},
   "outputs": [
    {
     "name": "stdout",
     "output_type": "stream",
     "text": [
      "businesses\n",
      "<class 'list'>\n",
      "\n",
      "\n",
      "\n",
      "total\n",
      "<class 'int'>\n",
      "\n",
      "\n",
      "\n",
      "region\n",
      "<class 'dict'>\n",
      "\n",
      "\n",
      "\n"
     ]
    }
   ],
   "source": [
    "for key in response.json().keys():\n",
    "    print(key)\n",
    "    value = response.json()[key] #Use standard dictionary formatting\n",
    "    print(type(value)) #What type is it?\n",
    "    print('\\n\\n') #Separate out data"
   ]
  },
  {
   "cell_type": "markdown",
   "metadata": {},
   "source": [
    "Let's continue to preview these further to get a little better acquainted."
   ]
  },
  {
   "cell_type": "code",
   "execution_count": 13,
   "metadata": {},
   "outputs": [
    {
     "data": {
      "text/plain": [
       "[{'id': '094fHChJkrJqztSFCn3ezA',\n",
       "  'alias': 'taqueria-habanero-washington',\n",
       "  'name': 'Taqueria Habanero',\n",
       "  'image_url': 'https://s3-media3.fl.yelpcdn.com/bphoto/KgSxmBUxqUIPDxREWbC7RQ/o.jpg',\n",
       "  'is_closed': False,\n",
       "  'url': 'https://www.yelp.com/biz/taqueria-habanero-washington?adjust_creative=gqpXEg7kSQLsTLCCpjYWAQ&utm_campaign=yelp_api_v3&utm_medium=api_v3_business_search&utm_source=gqpXEg7kSQLsTLCCpjYWAQ',\n",
       "  'review_count': 822,\n",
       "  'categories': [{'alias': 'mexican', 'title': 'Mexican'},\n",
       "   {'alias': 'cocktailbars', 'title': 'Cocktail Bars'}],\n",
       "  'rating': 4.5,\n",
       "  'coordinates': {'latitude': 38.93755, 'longitude': -77.03309},\n",
       "  'transactions': ['delivery'],\n",
       "  'price': '$$',\n",
       "  'location': {'address1': '3710 14th St NW',\n",
       "   'address2': None,\n",
       "   'address3': '',\n",
       "   'city': 'Washington, DC',\n",
       "   'zip_code': '20010',\n",
       "   'country': 'US',\n",
       "   'state': 'DC',\n",
       "   'display_address': ['3710 14th St NW', 'Washington, DC 20010']},\n",
       "  'phone': '+12027227700',\n",
       "  'display_phone': '(202) 722-7700',\n",
       "  'distance': 2926.6099864285006},\n",
       " {'id': 'H7TtoMf-RZ9eF0V2as4E9g',\n",
       "  'alias': 'el-sol-restaurant-and-tequileria-washington-2',\n",
       "  'name': 'El Sol Restaurant & Tequileria',\n",
       "  'image_url': 'https://s3-media4.fl.yelpcdn.com/bphoto/E3P0pcSub6ul-ajugoF6eQ/o.jpg',\n",
       "  'is_closed': False,\n",
       "  'url': 'https://www.yelp.com/biz/el-sol-restaurant-and-tequileria-washington-2?adjust_creative=gqpXEg7kSQLsTLCCpjYWAQ&utm_campaign=yelp_api_v3&utm_medium=api_v3_business_search&utm_source=gqpXEg7kSQLsTLCCpjYWAQ',\n",
       "  'review_count': 512,\n",
       "  'categories': [{'alias': 'mexican', 'title': 'Mexican'},\n",
       "   {'alias': 'breakfast_brunch', 'title': 'Breakfast & Brunch'},\n",
       "   {'alias': 'beerbar', 'title': 'Beer Bar'}],\n",
       "  'rating': 4.0,\n",
       "  'coordinates': {'latitude': 38.90661, 'longitude': -77.02676},\n",
       "  'transactions': ['delivery'],\n",
       "  'price': '$$',\n",
       "  'location': {'address1': '1227 11th St NW',\n",
       "   'address2': None,\n",
       "   'address3': '',\n",
       "   'city': 'Washington, DC',\n",
       "   'zip_code': '20001',\n",
       "   'country': 'US',\n",
       "   'state': 'DC',\n",
       "   'display_address': ['1227 11th St NW', 'Washington, DC 20001']},\n",
       "  'phone': '+12028154789',\n",
       "  'display_phone': '(202) 815-4789',\n",
       "  'distance': 616.9745821489176}]"
      ]
     },
     "execution_count": 13,
     "metadata": {},
     "output_type": "execute_result"
    }
   ],
   "source": [
    "response.json()['businesses'][:2]"
   ]
  },
  {
   "cell_type": "code",
   "execution_count": 14,
   "metadata": {},
   "outputs": [
    {
     "data": {
      "text/plain": [
       "1100"
      ]
     },
     "execution_count": 14,
     "metadata": {},
     "output_type": "execute_result"
    }
   ],
   "source": [
    "response.json()['total']"
   ]
  },
  {
   "cell_type": "code",
   "execution_count": 15,
   "metadata": {},
   "outputs": [
    {
     "data": {
      "text/plain": [
       "{'center': {'longitude': -77.0306396484375, 'latitude': 38.911293573163775}}"
      ]
     },
     "execution_count": 15,
     "metadata": {},
     "output_type": "execute_result"
    }
   ],
   "source": [
    "response.json()['region']"
   ]
  },
  {
   "cell_type": "markdown",
   "metadata": {},
   "source": [
    "As you can see, we're primarily interested in the 'businesses' entry. \n",
    "\n",
    "Let's go ahead and create a dataframe from that."
   ]
  },
  {
   "cell_type": "code",
   "execution_count": 16,
   "metadata": {},
   "outputs": [
    {
     "name": "stdout",
     "output_type": "stream",
     "text": [
      "10\n",
      "Index(['id', 'alias', 'name', 'image_url', 'is_closed', 'url', 'review_count',\n",
      "       'categories', 'rating', 'coordinates', 'transactions', 'price',\n",
      "       'location', 'phone', 'display_phone', 'distance'],\n",
      "      dtype='object')\n"
     ]
    },
    {
     "data": {
      "text/html": [
       "<div>\n",
       "<style scoped>\n",
       "    .dataframe tbody tr th:only-of-type {\n",
       "        vertical-align: middle;\n",
       "    }\n",
       "\n",
       "    .dataframe tbody tr th {\n",
       "        vertical-align: top;\n",
       "    }\n",
       "\n",
       "    .dataframe thead th {\n",
       "        text-align: right;\n",
       "    }\n",
       "</style>\n",
       "<table border=\"1\" class=\"dataframe\">\n",
       "  <thead>\n",
       "    <tr style=\"text-align: right;\">\n",
       "      <th></th>\n",
       "      <th>id</th>\n",
       "      <th>alias</th>\n",
       "      <th>name</th>\n",
       "      <th>image_url</th>\n",
       "      <th>is_closed</th>\n",
       "      <th>url</th>\n",
       "      <th>review_count</th>\n",
       "      <th>categories</th>\n",
       "      <th>rating</th>\n",
       "      <th>coordinates</th>\n",
       "      <th>transactions</th>\n",
       "      <th>price</th>\n",
       "      <th>location</th>\n",
       "      <th>phone</th>\n",
       "      <th>display_phone</th>\n",
       "      <th>distance</th>\n",
       "    </tr>\n",
       "  </thead>\n",
       "  <tbody>\n",
       "    <tr>\n",
       "      <th>0</th>\n",
       "      <td>094fHChJkrJqztSFCn3ezA</td>\n",
       "      <td>taqueria-habanero-washington</td>\n",
       "      <td>Taqueria Habanero</td>\n",
       "      <td>https://s3-media3.fl.yelpcdn.com/bphoto/KgSxmB...</td>\n",
       "      <td>False</td>\n",
       "      <td>https://www.yelp.com/biz/taqueria-habanero-was...</td>\n",
       "      <td>822</td>\n",
       "      <td>[{'alias': 'mexican', 'title': 'Mexican'}, {'a...</td>\n",
       "      <td>4.5</td>\n",
       "      <td>{'latitude': 38.93755, 'longitude': -77.03309}</td>\n",
       "      <td>[delivery]</td>\n",
       "      <td>$$</td>\n",
       "      <td>{'address1': '3710 14th St NW', 'address2': No...</td>\n",
       "      <td>+12027227700</td>\n",
       "      <td>(202) 722-7700</td>\n",
       "      <td>2926.609986</td>\n",
       "    </tr>\n",
       "    <tr>\n",
       "      <th>1</th>\n",
       "      <td>H7TtoMf-RZ9eF0V2as4E9g</td>\n",
       "      <td>el-sol-restaurant-and-tequileria-washington-2</td>\n",
       "      <td>El Sol Restaurant &amp; Tequileria</td>\n",
       "      <td>https://s3-media4.fl.yelpcdn.com/bphoto/E3P0pc...</td>\n",
       "      <td>False</td>\n",
       "      <td>https://www.yelp.com/biz/el-sol-restaurant-and...</td>\n",
       "      <td>512</td>\n",
       "      <td>[{'alias': 'mexican', 'title': 'Mexican'}, {'a...</td>\n",
       "      <td>4.0</td>\n",
       "      <td>{'latitude': 38.90661, 'longitude': -77.02676}</td>\n",
       "      <td>[delivery]</td>\n",
       "      <td>$$</td>\n",
       "      <td>{'address1': '1227 11th St NW', 'address2': No...</td>\n",
       "      <td>+12028154789</td>\n",
       "      <td>(202) 815-4789</td>\n",
       "      <td>616.974582</td>\n",
       "    </tr>\n",
       "    <tr>\n",
       "      <th>2</th>\n",
       "      <td>I7jd0Mm48zQNj75Tdw4jHQ</td>\n",
       "      <td>mexicue-washington-2</td>\n",
       "      <td>Mexicue</td>\n",
       "      <td>https://s3-media3.fl.yelpcdn.com/bphoto/jJe_08...</td>\n",
       "      <td>False</td>\n",
       "      <td>https://www.yelp.com/biz/mexicue-washington-2?...</td>\n",
       "      <td>161</td>\n",
       "      <td>[{'alias': 'mexican', 'title': 'Mexican'}, {'a...</td>\n",
       "      <td>4.0</td>\n",
       "      <td>{'latitude': 38.913338, 'longitude': -77.032387}</td>\n",
       "      <td>[delivery]</td>\n",
       "      <td>$$</td>\n",
       "      <td>{'address1': '1720 14th St NW', 'address2': ''...</td>\n",
       "      <td>+12022341595</td>\n",
       "      <td>(202) 234-1595</td>\n",
       "      <td>262.697777</td>\n",
       "    </tr>\n",
       "    <tr>\n",
       "      <th>3</th>\n",
       "      <td>SzpCnlr3SVfGsHganyhxNQ</td>\n",
       "      <td>tacos-el-chilango-washington</td>\n",
       "      <td>Tacos El Chilango</td>\n",
       "      <td>https://s3-media1.fl.yelpcdn.com/bphoto/bJ7LGm...</td>\n",
       "      <td>False</td>\n",
       "      <td>https://www.yelp.com/biz/tacos-el-chilango-was...</td>\n",
       "      <td>286</td>\n",
       "      <td>[{'alias': 'mexican', 'title': 'Mexican'}]</td>\n",
       "      <td>4.0</td>\n",
       "      <td>{'latitude': 38.9183867798767, 'longitude': -7...</td>\n",
       "      <td>[delivery]</td>\n",
       "      <td>$</td>\n",
       "      <td>{'address1': '1119 V St NW', 'address2': '', '...</td>\n",
       "      <td>+12029863030</td>\n",
       "      <td>(202) 986-3030</td>\n",
       "      <td>825.872598</td>\n",
       "    </tr>\n",
       "    <tr>\n",
       "      <th>4</th>\n",
       "      <td>iqV-9rIC-azTw9OQQc8Vhw</td>\n",
       "      <td>district-taco-washington-6</td>\n",
       "      <td>District Taco</td>\n",
       "      <td>https://s3-media3.fl.yelpcdn.com/bphoto/ZeENlU...</td>\n",
       "      <td>False</td>\n",
       "      <td>https://www.yelp.com/biz/district-taco-washing...</td>\n",
       "      <td>1584</td>\n",
       "      <td>[{'alias': 'mexican', 'title': 'Mexican'}]</td>\n",
       "      <td>4.0</td>\n",
       "      <td>{'latitude': 38.8975982666016, 'longitude': -7...</td>\n",
       "      <td>[pickup, delivery]</td>\n",
       "      <td>$</td>\n",
       "      <td>{'address1': '1309 F St NW', 'address2': '', '...</td>\n",
       "      <td>+12023477359</td>\n",
       "      <td>(202) 347-7359</td>\n",
       "      <td>1523.562665</td>\n",
       "    </tr>\n",
       "  </tbody>\n",
       "</table>\n",
       "</div>"
      ],
      "text/plain": [
       "                       id                                          alias  \\\n",
       "0  094fHChJkrJqztSFCn3ezA                   taqueria-habanero-washington   \n",
       "1  H7TtoMf-RZ9eF0V2as4E9g  el-sol-restaurant-and-tequileria-washington-2   \n",
       "2  I7jd0Mm48zQNj75Tdw4jHQ                           mexicue-washington-2   \n",
       "3  SzpCnlr3SVfGsHganyhxNQ                   tacos-el-chilango-washington   \n",
       "4  iqV-9rIC-azTw9OQQc8Vhw                     district-taco-washington-6   \n",
       "\n",
       "                             name  \\\n",
       "0               Taqueria Habanero   \n",
       "1  El Sol Restaurant & Tequileria   \n",
       "2                         Mexicue   \n",
       "3               Tacos El Chilango   \n",
       "4                   District Taco   \n",
       "\n",
       "                                           image_url  is_closed  \\\n",
       "0  https://s3-media3.fl.yelpcdn.com/bphoto/KgSxmB...      False   \n",
       "1  https://s3-media4.fl.yelpcdn.com/bphoto/E3P0pc...      False   \n",
       "2  https://s3-media3.fl.yelpcdn.com/bphoto/jJe_08...      False   \n",
       "3  https://s3-media1.fl.yelpcdn.com/bphoto/bJ7LGm...      False   \n",
       "4  https://s3-media3.fl.yelpcdn.com/bphoto/ZeENlU...      False   \n",
       "\n",
       "                                                 url  review_count  \\\n",
       "0  https://www.yelp.com/biz/taqueria-habanero-was...           822   \n",
       "1  https://www.yelp.com/biz/el-sol-restaurant-and...           512   \n",
       "2  https://www.yelp.com/biz/mexicue-washington-2?...           161   \n",
       "3  https://www.yelp.com/biz/tacos-el-chilango-was...           286   \n",
       "4  https://www.yelp.com/biz/district-taco-washing...          1584   \n",
       "\n",
       "                                          categories  rating  \\\n",
       "0  [{'alias': 'mexican', 'title': 'Mexican'}, {'a...     4.5   \n",
       "1  [{'alias': 'mexican', 'title': 'Mexican'}, {'a...     4.0   \n",
       "2  [{'alias': 'mexican', 'title': 'Mexican'}, {'a...     4.0   \n",
       "3         [{'alias': 'mexican', 'title': 'Mexican'}]     4.0   \n",
       "4         [{'alias': 'mexican', 'title': 'Mexican'}]     4.0   \n",
       "\n",
       "                                         coordinates        transactions  \\\n",
       "0     {'latitude': 38.93755, 'longitude': -77.03309}          [delivery]   \n",
       "1     {'latitude': 38.90661, 'longitude': -77.02676}          [delivery]   \n",
       "2   {'latitude': 38.913338, 'longitude': -77.032387}          [delivery]   \n",
       "3  {'latitude': 38.9183867798767, 'longitude': -7...          [delivery]   \n",
       "4  {'latitude': 38.8975982666016, 'longitude': -7...  [pickup, delivery]   \n",
       "\n",
       "  price                                           location         phone  \\\n",
       "0    $$  {'address1': '3710 14th St NW', 'address2': No...  +12027227700   \n",
       "1    $$  {'address1': '1227 11th St NW', 'address2': No...  +12028154789   \n",
       "2    $$  {'address1': '1720 14th St NW', 'address2': ''...  +12022341595   \n",
       "3     $  {'address1': '1119 V St NW', 'address2': '', '...  +12029863030   \n",
       "4     $  {'address1': '1309 F St NW', 'address2': '', '...  +12023477359   \n",
       "\n",
       "    display_phone     distance  \n",
       "0  (202) 722-7700  2926.609986  \n",
       "1  (202) 815-4789   616.974582  \n",
       "2  (202) 234-1595   262.697777  \n",
       "3  (202) 986-3030   825.872598  \n",
       "4  (202) 347-7359  1523.562665  "
      ]
     },
     "execution_count": 16,
     "metadata": {},
     "output_type": "execute_result"
    }
   ],
   "source": [
    "import pandas as pd\n",
    "\n",
    "df = pd.DataFrame.from_dict(response.json()['businesses'])\n",
    "print(len(df)) #Print how many rows\n",
    "print(df.columns) #Print column names\n",
    "df.head() #Previews the first five rows. \n",
    "#You could also write df.head(10) to preview 10 rows or df.tail() to see the bottom"
   ]
  },
  {
   "cell_type": "markdown",
   "metadata": {},
   "source": [
    "## Summary <a id=\"sum\"></a>\n",
    "\n",
    "Congratulations! We've covered a lot here! We took some of your previous knowledge with HTTP requests and OAuth in order to leverage an enterprise API! Then we made some requests to retrieve information that came back as a JSON format. We then transformed this data into a dataframe using the Pandas package. In the next lab, we'll break down how to read API documentation!"
   ]
  }
 ],
 "metadata": {
  "kernelspec": {
   "display_name": "Python 3",
   "language": "python",
   "name": "python3"
  },
  "language_info": {
   "codemirror_mode": {
    "name": "ipython",
    "version": 3
   },
   "file_extension": ".py",
   "mimetype": "text/x-python",
   "name": "python",
   "nbconvert_exporter": "python",
   "pygments_lexer": "ipython3",
   "version": "3.6.9"
  },
  "toc": {
   "base_numbering": 1,
   "nav_menu": {},
   "number_sections": true,
   "sideBar": true,
   "skip_h1_title": false,
   "title_cell": "Table of Contents",
   "title_sidebar": "Contents",
   "toc_cell": false,
   "toc_position": {},
   "toc_section_display": true,
   "toc_window_display": false
  }
 },
 "nbformat": 4,
 "nbformat_minor": 2
}
